{
  "nbformat": 4,
  "nbformat_minor": 0,
  "metadata": {
    "colab": {
      "provenance": []
    },
    "kernelspec": {
      "name": "python3",
      "display_name": "Python 3"
    },
    "language_info": {
      "name": "python"
    }
  },
  "cells": [
    {
      "cell_type": "markdown",
      "source": [
        "import numpy as np\n",
        "list_ = [ ‘1’ , ’2’ , ‘3’ , ‘4’ , ‘5’ ]\n",
        "array_list = np.array(object = list_)\n",
        "## **Q1**. Is there any difference in the data type of variables list_ and array_list? If there is then write a code\n",
        "to print the data types of both the variables."
      ],
      "metadata": {
        "id": "bs_9S9Bw81Ve"
      }
    },
    {
      "cell_type": "markdown",
      "source": [
        "Yes, there is a difference in the data type of variables list_ and array_list. list_ is a Python list object while array_list is a numpy array object.\n"
      ],
      "metadata": {
        "id": "5PxOZh8r84Mx"
      }
    },
    {
      "cell_type": "code",
      "source": [
        "import numpy as np \n",
        "list_ = ['1','2','3','4','5'] \n",
        "array_list = np.array(object = list_)\n"
      ],
      "metadata": {
        "id": "fKsJzxW59E6r"
      },
      "execution_count": 17,
      "outputs": []
    },
    {
      "cell_type": "code",
      "source": [
        "type(list_)"
      ],
      "metadata": {
        "colab": {
          "base_uri": "https://localhost:8080/"
        },
        "id": "M7dOAe729YQ3",
        "outputId": "5c281a77-eebe-4f0a-aaac-a8b70a91f602"
      },
      "execution_count": 18,
      "outputs": [
        {
          "output_type": "execute_result",
          "data": {
            "text/plain": [
              "list"
            ]
          },
          "metadata": {},
          "execution_count": 18
        }
      ]
    },
    {
      "cell_type": "code",
      "source": [
        "type(array_list)"
      ],
      "metadata": {
        "colab": {
          "base_uri": "https://localhost:8080/"
        },
        "id": "-OI02LWR9iGw",
        "outputId": "23b61213-324d-4dd8-b683-04e2bfb41431"
      },
      "execution_count": 19,
      "outputs": [
        {
          "output_type": "execute_result",
          "data": {
            "text/plain": [
              "numpy.ndarray"
            ]
          },
          "metadata": {},
          "execution_count": 19
        }
      ]
    },
    {
      "cell_type": "markdown",
      "source": [
        "Q2. Write a code to print the data type of each and every element of both the variables list_ and\n",
        "arra_list."
      ],
      "metadata": {
        "id": "s2r_2Lci9xA3"
      }
    },
    {
      "cell_type": "code",
      "source": [
        "import numpy as np \n",
        "list_ = ['1','2','3','4','5'] \n",
        "array_list = np.array(object = list_)\n"
      ],
      "metadata": {
        "id": "Y23EcSxl9yY4"
      },
      "execution_count": 24,
      "outputs": []
    },
    {
      "cell_type": "code",
      "source": [
        "for i in list_:\n",
        "  print(type(i))"
      ],
      "metadata": {
        "colab": {
          "base_uri": "https://localhost:8080/"
        },
        "id": "qZbIQHH69oY2",
        "outputId": "f32a0c2a-e9c3-4b39-cf63-036df91d0524"
      },
      "execution_count": 26,
      "outputs": [
        {
          "output_type": "stream",
          "name": "stdout",
          "text": [
            "<class 'str'>\n",
            "<class 'str'>\n",
            "<class 'str'>\n",
            "<class 'str'>\n",
            "<class 'str'>\n"
          ]
        }
      ]
    },
    {
      "cell_type": "code",
      "source": [
        "for i in array_list:\n",
        "  print(type(i))"
      ],
      "metadata": {
        "colab": {
          "base_uri": "https://localhost:8080/"
        },
        "id": "Xdu3CU4B-TyQ",
        "outputId": "0a470f35-245b-48e1-a97d-b6f8796d930e"
      },
      "execution_count": 27,
      "outputs": [
        {
          "output_type": "stream",
          "name": "stdout",
          "text": [
            "<class 'numpy.str_'>\n",
            "<class 'numpy.str_'>\n",
            "<class 'numpy.str_'>\n",
            "<class 'numpy.str_'>\n",
            "<class 'numpy.str_'>\n"
          ]
        }
      ]
    },
    {
      "cell_type": "markdown",
      "source": [
        "Q3. Considering the following changes in the variable, array_list:\n",
        "array_list = np.array(object = list_, dtype = int)\n",
        "Will there be any difference in the data type of the elements present in both the variables, list_ and\n",
        "arra_list? If so then print the data types of each and every element present in both the variables, list_\n",
        "and arra_list."
      ],
      "metadata": {
        "id": "VRExUkbU_o-z"
      }
    },
    {
      "cell_type": "code",
      "source": [
        "import numpy as np \n",
        "list_ = ['1','2','3','4','5'] "
      ],
      "metadata": {
        "id": "asEewe9L_t67"
      },
      "execution_count": 28,
      "outputs": []
    },
    {
      "cell_type": "code",
      "source": [
        "array_list = np.array(object = list_ , dtype = int)"
      ],
      "metadata": {
        "id": "Je_pI7h__2W1"
      },
      "execution_count": 36,
      "outputs": []
    },
    {
      "cell_type": "code",
      "source": [
        "array_list.dtype"
      ],
      "metadata": {
        "colab": {
          "base_uri": "https://localhost:8080/"
        },
        "id": "cAXSQ0JqAAeY",
        "outputId": "9f9d3bf8-5f7a-4a88-b2c2-eba1e14308a9"
      },
      "execution_count": 37,
      "outputs": [
        {
          "output_type": "execute_result",
          "data": {
            "text/plain": [
              "dtype('int64')"
            ]
          },
          "metadata": {},
          "execution_count": 37
        }
      ]
    },
    {
      "cell_type": "code",
      "source": [
        "for i in array_list:\n",
        "  print(type(i))"
      ],
      "metadata": {
        "colab": {
          "base_uri": "https://localhost:8080/"
        },
        "id": "xx7AMtQaACbx",
        "outputId": "43b41ea9-3843-45fa-c3fc-d4608df3b255"
      },
      "execution_count": 38,
      "outputs": [
        {
          "output_type": "stream",
          "name": "stdout",
          "text": [
            "<class 'numpy.int64'>\n",
            "<class 'numpy.int64'>\n",
            "<class 'numpy.int64'>\n",
            "<class 'numpy.int64'>\n",
            "<class 'numpy.int64'>\n"
          ]
        }
      ]
    },
    {
      "cell_type": "markdown",
      "source": [
        "# The data type oF the [array_list = np.array(object = list_ , dtype = int)][link text] is interger type "
      ],
      "metadata": {
        "id": "zEwdmTseAeP4"
      }
    },
    {
      "cell_type": "code",
      "source": [
        "list_ = ['1','2','3','4','5'] "
      ],
      "metadata": {
        "id": "Brh8nvkmAXzm"
      },
      "execution_count": 39,
      "outputs": []
    },
    {
      "cell_type": "code",
      "source": [
        "for i in list_:\n",
        "  print(type(i))"
      ],
      "metadata": {
        "colab": {
          "base_uri": "https://localhost:8080/"
        },
        "id": "nQYsdi-9BAYD",
        "outputId": "627e7670-ca1a-4317-e832-17784b5aa7e4"
      },
      "execution_count": 40,
      "outputs": [
        {
          "output_type": "stream",
          "name": "stdout",
          "text": [
            "<class 'str'>\n",
            "<class 'str'>\n",
            "<class 'str'>\n",
            "<class 'str'>\n",
            "<class 'str'>\n"
          ]
        }
      ]
    },
    {
      "cell_type": "markdown",
      "source": [
        "# The data type of list_ in still a string only"
      ],
      "metadata": {
        "id": "Ywe9BJ94BJD3"
      }
    },
    {
      "cell_type": "markdown",
      "source": [
        "Q4. Write a code to find the following characteristics of variable, num_array:\n",
        "(i) shape\n",
        "(ii) size"
      ],
      "metadata": {
        "id": "JZ79gw4VBkO_"
      }
    },
    {
      "cell_type": "code",
      "source": [
        "import numpy as np\n",
        "num_list = [ [ 1 , 2 , 3 ] , [ 4 , 5 , 6 ] ]\n",
        "num_array = np.array(num_list)"
      ],
      "metadata": {
        "id": "u_uzQeINBHWe"
      },
      "execution_count": 42,
      "outputs": []
    },
    {
      "cell_type": "markdown",
      "source": [
        "**Code for the shape of the array**"
      ],
      "metadata": {
        "id": "rywhmKJcCNeq"
      }
    },
    {
      "cell_type": "code",
      "source": [
        "np.shape(num_array)     # shape of the num array "
      ],
      "metadata": {
        "colab": {
          "base_uri": "https://localhost:8080/"
        },
        "id": "FlICysy9BpAA",
        "outputId": "06251152-446f-4d0b-af54-a782dcf78f7a"
      },
      "execution_count": 45,
      "outputs": [
        {
          "output_type": "execute_result",
          "data": {
            "text/plain": [
              "(2, 3)"
            ]
          },
          "metadata": {},
          "execution_count": 45
        }
      ]
    },
    {
      "cell_type": "markdown",
      "source": [
        "**Code for the size of the array**"
      ],
      "metadata": {
        "id": "euPMVnjMCYiy"
      }
    },
    {
      "cell_type": "code",
      "source": [
        "np.size(num_array)"
      ],
      "metadata": {
        "colab": {
          "base_uri": "https://localhost:8080/"
        },
        "id": "pfWgwq7OBxIv",
        "outputId": "378f5b0e-9989-4733-9a24-88ec9a7a455b"
      },
      "execution_count": 46,
      "outputs": [
        {
          "output_type": "execute_result",
          "data": {
            "text/plain": [
              "6"
            ]
          },
          "metadata": {},
          "execution_count": 46
        }
      ]
    },
    {
      "cell_type": "markdown",
      "source": [
        "Q5. Write a code to create numpy array of 3*3 matrix containing zeros only, using a numpy array\n",
        "creation function."
      ],
      "metadata": {
        "id": "7691NXYYC_fB"
      }
    },
    {
      "cell_type": "code",
      "source": [
        "import numpy as np \n",
        "zeros_array = np.zeros((3,3))\n",
        "\n"
      ],
      "metadata": {
        "id": "onoOfPVnDAhR"
      },
      "execution_count": 56,
      "outputs": []
    },
    {
      "cell_type": "code",
      "source": [
        "zeros_array"
      ],
      "metadata": {
        "colab": {
          "base_uri": "https://localhost:8080/"
        },
        "id": "vk68spFqEVW5",
        "outputId": "131e1674-da80-42a2-d329-0c91ae434ea6"
      },
      "execution_count": 57,
      "outputs": [
        {
          "output_type": "execute_result",
          "data": {
            "text/plain": [
              "array([[0., 0., 0.],\n",
              "       [0., 0., 0.],\n",
              "       [0., 0., 0.]])"
            ]
          },
          "metadata": {},
          "execution_count": 57
        }
      ]
    },
    {
      "cell_type": "markdown",
      "source": [
        "Q6. Create an identity matrix of shape (5,5) using numpy functions?"
      ],
      "metadata": {
        "id": "YdSFbRKfDzOz"
      }
    },
    {
      "cell_type": "code",
      "source": [
        "import numpy as np "
      ],
      "metadata": {
        "id": "ecCgJVHYD3oi"
      },
      "execution_count": 51,
      "outputs": []
    },
    {
      "cell_type": "code",
      "source": [
        "identity_matrix  = np.eye(5,5)"
      ],
      "metadata": {
        "id": "iTd2Ew6lD6NA"
      },
      "execution_count": 53,
      "outputs": []
    },
    {
      "cell_type": "code",
      "source": [
        "identity_matrix"
      ],
      "metadata": {
        "colab": {
          "base_uri": "https://localhost:8080/"
        },
        "id": "UXsQtCN5EFoZ",
        "outputId": "00f1584f-c852-4c73-e73c-7613338d9461"
      },
      "execution_count": 54,
      "outputs": [
        {
          "output_type": "execute_result",
          "data": {
            "text/plain": [
              "array([[1., 0., 0., 0., 0.],\n",
              "       [0., 1., 0., 0., 0.],\n",
              "       [0., 0., 1., 0., 0.],\n",
              "       [0., 0., 0., 1., 0.],\n",
              "       [0., 0., 0., 0., 1.]])"
            ]
          },
          "metadata": {},
          "execution_count": 54
        }
      ]
    },
    {
      "cell_type": "code",
      "source": [],
      "metadata": {
        "id": "6TOv0VlaELf4"
      },
      "execution_count": null,
      "outputs": []
    }
  ]
}